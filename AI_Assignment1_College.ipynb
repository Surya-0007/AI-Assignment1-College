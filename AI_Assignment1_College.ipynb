{
  "nbformat": 4,
  "nbformat_minor": 0,
  "metadata": {
    "colab": {
      "provenance": [],
      "authorship_tag": "ABX9TyNyhs+7a/I15zV8jYg2MGtu",
      "include_colab_link": true
    },
    "kernelspec": {
      "name": "python3",
      "display_name": "Python 3"
    },
    "language_info": {
      "name": "python"
    }
  },
  "cells": [
    {
      "cell_type": "markdown",
      "metadata": {
        "id": "view-in-github",
        "colab_type": "text"
      },
      "source": [
        "<a href=\"https://colab.research.google.com/github/Surya-0007/AI-Assignment1-College/blob/main/AI_Assignment1_College.ipynb\" target=\"_parent\"><img src=\"https://colab.research.google.com/assets/colab-badge.svg\" alt=\"Open In Colab\"/></a>"
      ]
    },
    {
      "cell_type": "markdown",
      "source": [
        "# **(1). Write a program to demonstrate different number datatypes and arithmetic operations (addition, subtraction, multiplication, division, and exponent) in python**"
      ],
      "metadata": {
        "id": "_JbLuYIgBUKi"
      }
    },
    {
      "cell_type": "code",
      "execution_count": 7,
      "metadata": {
        "colab": {
          "base_uri": "https://localhost:8080/"
        },
        "id": "VEoAI3cS6ZPS",
        "outputId": "21aa949d-302b-418f-da40-9fe3794ed2d7"
      },
      "outputs": [
        {
          "output_type": "stream",
          "name": "stdout",
          "text": [
            "Datatype of a --> <class 'int'>\n",
            "Datatype of b --> <class 'float'>\n",
            "Datatype of c --> <class 'float'>\n",
            "Addition of a and b --> 16.32\n",
            "Subtraction of a and b --> 7.68\n",
            "Multiplication of a and b --> 51.84\n",
            "Divison of a and b --> 2.7777777777777777\n",
            "Exponent of a and b --> 45926.461219009056\n"
          ]
        }
      ],
      "source": [
        "a = 12\n",
        "b = 4.32\n",
        "c = a+b\n",
        "d = a-b\n",
        "e = a*b\n",
        "f = a/b\n",
        "g = a**b\n",
        "print(\"Datatype of a -->\", type(a))\n",
        "print(\"Datatype of b -->\", type(b))\n",
        "print(\"Datatype of c -->\", type(c))\n",
        "print(\"Addition of a and b -->\", c )\n",
        "print(\"Subtraction of a and b -->\", d )\n",
        "print(\"Multiplication of a and b -->\", e )\n",
        "print(\"Divison of a and b -->\", f )\n",
        "print(\"Exponent of a and b -->\", g )"
      ]
    },
    {
      "cell_type": "markdown",
      "source": [
        "# **(2). Write a program to implement all the usual operators for Boolean logic in python**"
      ],
      "metadata": {
        "id": "wabZ8BLWBZ45"
      }
    },
    {
      "cell_type": "code",
      "source": [
        "print(\"----AND----\")\n",
        "print(\"True AND True =\", True and True)\n",
        "print(\"True AND False =\",True and False)\n",
        "print(\"False AND True =\", False and True)\n",
        "print(\"False AND False =\",False and False)\n",
        "\n",
        "\n",
        "print(\"----OR----\")\n",
        "print(\"True OR True =\", True or True)\n",
        "print(\"True OR False =\", True or False)\n",
        "print(\"False OR True =\", False or True)\n",
        "print(\"False OR False =\", False or False)\n",
        "\n",
        "print(\"----NOT----\")\n",
        "print(\"NOT True =\", not True)\n",
        "print(\"NOT False =\", not False)"
      ],
      "metadata": {
        "colab": {
          "base_uri": "https://localhost:8080/"
        },
        "id": "3T51Tq0OAV0j",
        "outputId": "672f4dfa-c07f-40da-fe1b-999fec7b4010"
      },
      "execution_count": 9,
      "outputs": [
        {
          "output_type": "stream",
          "name": "stdout",
          "text": [
            "----AND----\n",
            "True AND True = True\n",
            "True AND False = False\n",
            "False AND True = False\n",
            "False AND False = False\n",
            "----OR----\n",
            "True OR True = True\n",
            "True OR False = True\n",
            "False OR True = True\n",
            "False OR False = False\n",
            "----NOT----\n",
            "NOT True = False\n",
            "NOT False = True\n"
          ]
        }
      ]
    },
    {
      "cell_type": "markdown",
      "source": [
        "# **(3). Write a program to perform certain operations on strings (print a string, concatenation of two strings, capitalize a string, convert a string to uppercase, right-justify, centre a string, replace all instances of one substring with another, accessing substring from a given string)**"
      ],
      "metadata": {
        "id": "wi9Vdce7BdEA"
      }
    },
    {
      "cell_type": "code",
      "source": [
        "a = \"hello\"\n",
        "b = \"world\"\n",
        "print(\"printing a string-->\", a)\n",
        "print(\"concatenation of two strings-->\", a+b)\n",
        "print(\"capitalizing a string-->\", str.capitalize(a))\n",
        "print(\"converting a string to uppercase-->\", str.upper(a))\n",
        "print(\"right-justify-->\", a.rjust(50))\n",
        "print(\"centre a string-->\", a.center(10))\n",
        "print(\"replacing all hello with hi-->\", a.replace(\"hello\", \"hi\"))\n",
        "\n",
        "#accessing substring from a given string\n",
        "\n",
        "start = 2\n",
        "end = 5\n",
        "substring = a[start: end]\n",
        "\n",
        "print(\"Substring-->\", substring)"
      ],
      "metadata": {
        "colab": {
          "base_uri": "https://localhost:8080/"
        },
        "id": "ii2jyGOx9e8j",
        "outputId": "78c0497e-fb80-4cc9-f87e-eabf892a728c"
      },
      "execution_count": 10,
      "outputs": [
        {
          "output_type": "stream",
          "name": "stdout",
          "text": [
            "printing a string--> hello\n",
            "concatenation of two strings--> helloworld\n",
            "capitalizing a string--> Hello\n",
            "converting a string to uppercase--> HELLO\n",
            "right-justify-->                                              hello\n",
            "centre a string-->   hello   \n",
            "replacing all hello with hi--> hi\n",
            "Substring--> llo\n"
          ]
        }
      ]
    },
    {
      "cell_type": "markdown",
      "source": [
        "# **(4). Write a program to create a list with different data types, access elements of lists, slicing, append and remove elements from list**"
      ],
      "metadata": {
        "id": "6hqlj9zh-UYT"
      }
    },
    {
      "cell_type": "code",
      "source": [
        "L = [\"7\", \"4\", \"1\", \"A\", \"Hello\", \"3.14\"]\n",
        "print(L)\n",
        "print(\"Accessing element at index 4---->\", L[4]);\n",
        "print(\"Slicing the list from index 3 to 5---->\", L[3:6])\n",
        "L.append(\"World\")\n",
        "print(\"Appending---->\", L)\n",
        "L.remove(\"A\")\n",
        "print(\"Removing A---->\", L)"
      ],
      "metadata": {
        "colab": {
          "base_uri": "https://localhost:8080/"
        },
        "id": "NJu2nal7_xwZ",
        "outputId": "2f7b42f8-595f-4879-acfd-246f04549ed5"
      },
      "execution_count": 11,
      "outputs": [
        {
          "output_type": "stream",
          "name": "stdout",
          "text": [
            "['7', '4', '1', 'A', 'Hello', '3.14']\n",
            "Accessing element at index 4----> Hello\n",
            "Slicing the list from index 3 to 5----> ['A', 'Hello', '3.14']\n",
            "Appending----> ['7', '4', '1', 'A', 'Hello', '3.14', 'World']\n",
            "Removing A----> ['7', '4', '1', 'Hello', '3.14', 'World']\n"
          ]
        }
      ]
    },
    {
      "cell_type": "markdown",
      "source": [
        "# **(5). Write a program to create a dictionary with different data types, access elements of dictionary, add and remove elements from dictionary**"
      ],
      "metadata": {
        "id": "q4DWfeLpClMc"
      }
    },
    {
      "cell_type": "code",
      "source": [
        "D = {\"1\":\"7\", \"2\":\"A\", \"3\":\"Hello\", \"4\":\"3.14\"}\n",
        "\n",
        "print(D)\n",
        "print(\"Accessing element at key 3---->\", D[\"4\"]);\n",
        "\n",
        "D[7] = \"World\"\n",
        "print(\"Adding---->\", D)\n",
        "\n",
        "del D[7]\n",
        "print(\"Deleting---->\", D)\n"
      ],
      "metadata": {
        "colab": {
          "base_uri": "https://localhost:8080/"
        },
        "id": "qeEItmcJCwfd",
        "outputId": "cc3a3aa0-288a-483d-853d-93f43a7c63c8"
      },
      "execution_count": 12,
      "outputs": [
        {
          "output_type": "stream",
          "name": "stdout",
          "text": [
            "{'1': '7', '2': 'A', '3': 'Hello', '4': '3.14'}\n",
            "Accessing element at key 3----> 3.14\n",
            "Adding----> {'1': '7', '2': 'A', '3': 'Hello', '4': '3.14', 7: 'World'}\n",
            "Deleting----> {'1': '7', '2': 'A', '3': 'Hello', '4': '3.14'}\n"
          ]
        }
      ]
    },
    {
      "cell_type": "markdown",
      "source": [
        "# **(6). Write a program to create a set with different data types, check for an element, add and remove elements from the set**"
      ],
      "metadata": {
        "id": "6sOZv2B4Ipyb"
      }
    },
    {
      "cell_type": "code",
      "source": [
        "S = set({\"7\", \"4\", \"1\", \"A\", \"Hello\", \"3.14\"})\n",
        "print(S)\n",
        "\n",
        "print(\"Checking for 1 in Set---->\", 1 in S)\n",
        "\n",
        "S.add(\"world\")\n",
        "print(\"Adding an element---->\", S)\n",
        "\n",
        "S.discard(\"world\")\n",
        "print(\"Removing an element---->\", S)"
      ],
      "metadata": {
        "colab": {
          "base_uri": "https://localhost:8080/"
        },
        "id": "wJpFMR-QGd0w",
        "outputId": "31361dae-fd0f-459f-8dfe-5cadbb665cb5"
      },
      "execution_count": 13,
      "outputs": [
        {
          "output_type": "stream",
          "name": "stdout",
          "text": [
            "{'3.14', 'A', '4', '7', '1', 'Hello'}\n",
            "Checking for 1 in Set----> False\n",
            "Adding an element----> {'3.14', 'A', '4', '7', '1', 'world', 'Hello'}\n",
            "Removing an element----> {'3.14', 'A', '4', '7', '1', 'Hello'}\n"
          ]
        }
      ]
    },
    {
      "cell_type": "markdown",
      "source": [
        "# **(7). Write a program to create a tuple with different data types, create a dictionary with tuple keys**"
      ],
      "metadata": {
        "id": "_nGXfm7bLmz6"
      }
    },
    {
      "cell_type": "code",
      "source": [
        "T = (\"A\", \"Hello\", \"16.35\")\n",
        "print(T)\n",
        "\n",
        "D = {T[0]:\"12\", T[1]:\"23\", T[2]:\"51\"}\n",
        "print(D)"
      ],
      "metadata": {
        "colab": {
          "base_uri": "https://localhost:8080/"
        },
        "id": "nNChSKiiIpFD",
        "outputId": "ff6917bf-59dc-4e49-e228-f058b4c725c7"
      },
      "execution_count": 14,
      "outputs": [
        {
          "output_type": "stream",
          "name": "stdout",
          "text": [
            "('A', 'Hello', '16.35')\n",
            "{'A': '12', 'Hello': '23', '16.35': '51'}\n"
          ]
        }
      ]
    },
    {
      "cell_type": "markdown",
      "source": [
        "# **(8). Write a program to print the sign of number**"
      ],
      "metadata": {
        "id": "9GejUwxSMYi0"
      }
    },
    {
      "cell_type": "code",
      "source": [
        "def sign(num):\n",
        "  if num < 0:\n",
        "    return \"Negative\"\n",
        "  elif num > 0:\n",
        "    return \"Positive\"\n",
        "  else:\n",
        "    return \"Number is Zero\"\n",
        "\n",
        "a = float(input(\"Enter Your Number-->\"))\n",
        "print(\"Sign of the given number is-->\", sign(a))"
      ],
      "metadata": {
        "colab": {
          "base_uri": "https://localhost:8080/"
        },
        "id": "KVn3VOkrMf4V",
        "outputId": "e833dedf-a8e4-4f22-ec2b-6f4623be25c7"
      },
      "execution_count": 15,
      "outputs": [
        {
          "output_type": "stream",
          "name": "stdout",
          "text": [
            "Enter Your Number-->12\n",
            "Sign of the given number is--> Positive\n"
          ]
        }
      ]
    },
    {
      "cell_type": "markdown",
      "source": [
        "# **(9). Using a conditional, write the relu function defined as follows**"
      ],
      "metadata": {
        "id": "0zds5MppOQsE"
      }
    },
    {
      "cell_type": "code",
      "source": [
        "def relu(num):    # relu is Rectified Linear Unit (ReLU)\n",
        "  if num>=0:\n",
        "    return num\n",
        "  else:\n",
        "    return 0\n",
        "\n",
        "a = float(input(\"Enter your number-->\"))\n",
        "print(\"The relu of your number is-->\", relu(a))"
      ],
      "metadata": {
        "colab": {
          "base_uri": "https://localhost:8080/"
        },
        "id": "a3qsZ2UVOdEB",
        "outputId": "d8570dd0-396b-43bb-b22a-9ea7f3dbf6b0"
      },
      "execution_count": 18,
      "outputs": [
        {
          "output_type": "stream",
          "name": "stdout",
          "text": [
            "Enter your number-->-12\n",
            "The relu of your number is--> 0\n"
          ]
        }
      ]
    },
    {
      "cell_type": "markdown",
      "source": [
        "# **(10). (a) Write a python program to print prime numbers less than 20**\n"
      ],
      "metadata": {
        "id": "MGZl9TjgPcIh"
      }
    },
    {
      "cell_type": "code",
      "source": [
        "def isPrime(num):\n",
        "    if num<=1:\n",
        "      return False\n",
        "    for x in range(2, int(num*0.5) + 1):\n",
        "      if (num)%(x)==0:\n",
        "        return False\n",
        "    return True\n",
        "\n",
        "for i in range(1,20):\n",
        "  if isPrime(i):\n",
        "    print(i)"
      ],
      "metadata": {
        "colab": {
          "base_uri": "https://localhost:8080/"
        },
        "id": "O3PV1KghPsm_",
        "outputId": "985fc0eb-198c-4393-b49f-822793a82ec1"
      },
      "execution_count": 24,
      "outputs": [
        {
          "output_type": "stream",
          "name": "stdout",
          "text": [
            "2\n",
            "3\n",
            "5\n",
            "7\n",
            "11\n",
            "13\n",
            "17\n",
            "19\n"
          ]
        }
      ]
    },
    {
      "cell_type": "markdown",
      "source": [
        "# **(b) Write a python program to find factorial of a number using recursion**"
      ],
      "metadata": {
        "id": "Q4teoX3PdeNE"
      }
    },
    {
      "cell_type": "code",
      "source": [
        "def factorial(num):\n",
        "  if num == 0 or num == 1:\n",
        "    return 1\n",
        "  else:\n",
        "    return num*factorial(num-1)\n",
        "\n",
        "a = int(input(\"Enter Your Number-->\"))\n",
        "print(\"Factorial of\", a, \"is\", factorial(a))"
      ],
      "metadata": {
        "colab": {
          "base_uri": "https://localhost:8080/"
        },
        "id": "PD2uqXw3dkWG",
        "outputId": "88d5da2b-3f6f-468a-9fac-b23400df7743"
      },
      "execution_count": 20,
      "outputs": [
        {
          "output_type": "stream",
          "name": "stdout",
          "text": [
            "Enter Your Number-->12\n",
            "Factorial of 12 is 479001600\n"
          ]
        }
      ]
    },
    {
      "cell_type": "markdown",
      "source": [
        "# **(c) Write a program that inputs a text file. The program should print all the unique words in the file in alphabetical order.**"
      ],
      "metadata": {
        "id": "Hj2jMNNfffFr"
      }
    },
    {
      "cell_type": "code",
      "source": [
        "text = \"Hello world, How do you do\";\n",
        "\n",
        "filename = \"output.txt\";\n",
        "\n",
        "with open(filename, \"w\") as file:\n",
        "    file.write(text)"
      ],
      "metadata": {
        "id": "N5ch5Sg7mbat"
      },
      "execution_count": 21,
      "outputs": []
    },
    {
      "cell_type": "code",
      "source": [
        "filename = input(\"Enter the name of your file --> \")\n",
        "\n",
        "try:\n",
        "    with open(filename, \"r\") as file:\n",
        "        words = file.read().split()\n",
        "        sortedWords = sorted(set(words))\n",
        "\n",
        "    with open(\"sort.txt\", \"w\") as file:\n",
        "        for word in sortedWords:\n",
        "            file.write(word + \"\\n\")\n",
        "\n",
        "    print(\"Sorted words have been saved back to the file.\")\n",
        "except FileNotFoundError:\n",
        "    print(\"File not found.\")\n"
      ],
      "metadata": {
        "colab": {
          "base_uri": "https://localhost:8080/"
        },
        "id": "6tsCjCm7nf_n",
        "outputId": "b23f8eff-4f39-4c4e-b61a-f0d89f6807f3"
      },
      "execution_count": 22,
      "outputs": [
        {
          "output_type": "stream",
          "name": "stdout",
          "text": [
            "Enter the name of your file --> output.txt\n",
            "Sorted words have been saved back to the file.\n"
          ]
        }
      ]
    },
    {
      "cell_type": "markdown",
      "source": [
        "# **(11). Write a python program to square each element of a list using list comprehension, and of a dictionary using dictionary comprehension**"
      ],
      "metadata": {
        "id": "3AMDctYLpXAv"
      }
    },
    {
      "cell_type": "code",
      "source": [
        "L = [1, 2, 3, 4, 5]\n",
        "newL = [x**2 for x in L]\n",
        "print(\"List after its elements squares-->\", newL)\n",
        "\n",
        "D = {1:1, 2:2, 3:3, 4:4, 5:5}\n",
        "newD = {key:value**2 for key, value in D.items()}\n",
        "print(\"Dictionary after its elements squared-->\", newD)"
      ],
      "metadata": {
        "colab": {
          "base_uri": "https://localhost:8080/"
        },
        "id": "OfiPHxBTpiw4",
        "outputId": "82e8392f-fb46-4792-b701-204585dbb9e7"
      },
      "execution_count": 23,
      "outputs": [
        {
          "output_type": "stream",
          "name": "stdout",
          "text": [
            "List after its elements squares--> [1, 4, 9, 16, 25]\n",
            "Dictionary after its elements squared--> {1: 1, 2: 4, 3: 9, 4: 16, 5: 25}\n"
          ]
        }
      ]
    }
  ]
}